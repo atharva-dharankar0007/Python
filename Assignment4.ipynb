{
 "cells": [
  {
   "cell_type": "markdown",
   "id": "f12e02bc-049a-472d-9af8-b51714cf5689",
   "metadata": {},
   "source": [
    "## Using FOR LOOP"
   ]
  },
  {
   "cell_type": "markdown",
   "id": "8a9c7a20-db38-4345-8530-dac6f5d8f046",
   "metadata": {},
   "source": [
    "##Q. Write a program to print first n natural numbers."
   ]
  },
  {
   "cell_type": "code",
   "execution_count": 5,
   "id": "47fc8c5e-0a00-4bc5-892d-46e194f0bfde",
   "metadata": {},
   "outputs": [
    {
     "name": "stdin",
     "output_type": "stream",
     "text": [
      "Enter the Number for natural numbers:  4\n"
     ]
    },
    {
     "name": "stdout",
     "output_type": "stream",
     "text": [
      "The natural numbers are: 1\n",
      "The natural numbers are: 2\n",
      "The natural numbers are: 3\n",
      "The natural numbers are: 4\n"
     ]
    }
   ],
   "source": [
    "number=int(input(\"Enter the Number for natural numbers: \"))\n",
    "\n",
    "for i in range(1,number+1):\n",
    "    print(f\"The natural numbers are: {i}\")"
   ]
  },
  {
   "cell_type": "markdown",
   "id": "608fe5f2-e54c-49fd-bbbb-fdcbf5bfae6e",
   "metadata": {},
   "source": [
    "##Q. Write a program to print first n natural numbers in reverse order"
   ]
  },
  {
   "cell_type": "code",
   "execution_count": 26,
   "id": "20156a41-d09b-4abe-9b41-3c911a4ba3c9",
   "metadata": {},
   "outputs": [
    {
     "name": "stdin",
     "output_type": "stream",
     "text": [
      "Enter the Number for natural numbers:  4\n"
     ]
    },
    {
     "name": "stdout",
     "output_type": "stream",
     "text": [
      "The natural numbers are: 4\n",
      "The natural numbers are: 3\n",
      "The natural numbers are: 2\n",
      "The natural numbers are: 1\n"
     ]
    }
   ],
   "source": [
    "number=int(input(\"Enter the Number for natural numbers: \"))\n",
    "\n",
    "for i in range(number,0,-1):\n",
    "    print(f\"The natural numbers are: {i}\")"
   ]
  },
  {
   "cell_type": "markdown",
   "id": "5cfe97eb-c0d6-4a87-9923-b818096e5f27",
   "metadata": {},
   "source": [
    "##Q. Write a program to print all even numbers till n."
   ]
  },
  {
   "cell_type": "code",
   "execution_count": 35,
   "id": "a08c2fea-66ef-46f8-9653-4118ef594471",
   "metadata": {},
   "outputs": [
    {
     "name": "stdin",
     "output_type": "stream",
     "text": [
      "Enter the number till which we need even number:  10\n"
     ]
    },
    {
     "name": "stdout",
     "output_type": "stream",
     "text": [
      "0\n",
      "2\n",
      "4\n",
      "6\n",
      "8\n"
     ]
    }
   ],
   "source": [
    "number=int(input(\"Enter the number till which we need even number: \"))\n",
    "\n",
    "for i in range(0,number):\n",
    "    if i%2==0:\n",
    "        print(i)"
   ]
  },
  {
   "cell_type": "markdown",
   "id": "bc487d16-3ad9-43e9-832b-51d1d69c5fb6",
   "metadata": {},
   "source": [
    "##Write a program to print all odd numbers till n."
   ]
  },
  {
   "cell_type": "code",
   "execution_count": 40,
   "id": "621553e7-43b6-4659-aa8f-fd87bafbfbf1",
   "metadata": {},
   "outputs": [
    {
     "name": "stdin",
     "output_type": "stream",
     "text": [
      "Enter the number till which we need even number:  10\n"
     ]
    },
    {
     "name": "stdout",
     "output_type": "stream",
     "text": [
      "1\n",
      "3\n",
      "5\n",
      "7\n",
      "9\n"
     ]
    }
   ],
   "source": [
    "number=int(input(\"Enter the number till which we need odd number: \"))\n",
    "\n",
    "for i in range(0,number):\n",
    "    if i%2!=0:\n",
    "        print(i)"
   ]
  },
  {
   "cell_type": "markdown",
   "id": "825c5476-8532-483d-88ab-a59388fa1ff0",
   "metadata": {},
   "source": [
    "##Q. Write a program which accept lower limit & upper limit, display all numbers between them."
   ]
  },
  {
   "cell_type": "code",
   "execution_count": 1,
   "id": "6c0e03c2-f256-4b75-9295-6297921166e2",
   "metadata": {},
   "outputs": [
    {
     "name": "stdin",
     "output_type": "stream",
     "text": [
      "Enter the Lower limit of number:  5\n",
      "Enter the upper limit of number:  10\n"
     ]
    },
    {
     "name": "stdout",
     "output_type": "stream",
     "text": [
      "5\n",
      "6\n",
      "7\n",
      "8\n",
      "9\n",
      "10\n"
     ]
    }
   ],
   "source": [
    "lower_limit=int(input(\"Enter the Lower limit of number: \"))\n",
    "upper_limit=int(input(\"Enter the upper limit of number: \"))\n",
    "\n",
    "for i in range(lower_limit,upper_limit+1):\n",
    "    print(i)"
   ]
  },
  {
   "cell_type": "code",
   "execution_count": null,
   "id": "9f2acb2b-3434-4e01-8e98-10e182b4d150",
   "metadata": {},
   "outputs": [],
   "source": []
  },
  {
   "cell_type": "markdown",
   "id": "12176c57-8baf-422d-bcd3-1bb294b2ee26",
   "metadata": {},
   "source": [
    "## USING WHILE LOOP"
   ]
  },
  {
   "cell_type": "markdown",
   "id": "d371540e-620c-4020-86bf-7857edd2e853",
   "metadata": {},
   "source": [
    "##Q. Write a program to print first n natural numbers."
   ]
  },
  {
   "cell_type": "code",
   "execution_count": 5,
   "id": "737b276c-c64c-43e0-bd12-c7f3191512dc",
   "metadata": {},
   "outputs": [
    {
     "name": "stdin",
     "output_type": "stream",
     "text": [
      "Enter the Number for natural numbers:  5\n"
     ]
    },
    {
     "name": "stdout",
     "output_type": "stream",
     "text": [
      "1\n",
      "2\n",
      "3\n",
      "4\n",
      "5\n"
     ]
    }
   ],
   "source": [
    "number=int(input(\"Enter the Number for natural numbers: \"))\n",
    "\n",
    "i=1\n",
    "\n",
    "while i<=number:\n",
    "    print(i)\n",
    "    i=i+1"
   ]
  },
  {
   "cell_type": "markdown",
   "id": "892bfaa4-c621-42d1-9dcc-42328925476d",
   "metadata": {},
   "source": [
    "##Q. Write a program to print first n natural numbers in reverse order"
   ]
  },
  {
   "cell_type": "code",
   "execution_count": 8,
   "id": "b2b7c968-2785-420f-8ad9-7048ac1d1269",
   "metadata": {},
   "outputs": [
    {
     "name": "stdin",
     "output_type": "stream",
     "text": [
      "Enter the Number for natural numbers:  5\n"
     ]
    },
    {
     "name": "stdout",
     "output_type": "stream",
     "text": [
      "5\n",
      "4\n",
      "3\n",
      "2\n",
      "1\n"
     ]
    }
   ],
   "source": [
    "number=int(input(\"Enter the Number for natural numbers: \"))\n",
    "\n",
    "i=number\n",
    "\n",
    "while i>=1:\n",
    "    print(i)\n",
    "    i=i-1"
   ]
  },
  {
   "cell_type": "markdown",
   "id": "4857ee79-7780-492d-ba7c-dc1975b3e947",
   "metadata": {},
   "source": [
    "##Q. Write a program to print all even numbers till n."
   ]
  },
  {
   "cell_type": "code",
   "execution_count": 12,
   "id": "ee80e950-b77d-43a6-b2b1-979f92423bae",
   "metadata": {},
   "outputs": [
    {
     "name": "stdin",
     "output_type": "stream",
     "text": [
      "Enter the number till which we need even number:  10\n"
     ]
    },
    {
     "name": "stdout",
     "output_type": "stream",
     "text": [
      "0\n",
      "2\n",
      "4\n",
      "6\n",
      "8\n",
      "10\n"
     ]
    }
   ],
   "source": [
    "number=int(input(\"Enter the number till which we need even number: \"))\n",
    "\n",
    "i=0\n",
    "while i<=number:\n",
    "    if i%2==0:\n",
    "        print(i)\n",
    "\n",
    "    i=i+1"
   ]
  },
  {
   "cell_type": "markdown",
   "id": "da1adfc7-3107-43f3-b8bb-7b49fe0562a8",
   "metadata": {},
   "source": [
    "##Q. Write a program to print all odd numbers till n."
   ]
  },
  {
   "cell_type": "code",
   "execution_count": 24,
   "id": "2885bfb3-284d-4494-ac61-b68940e7b90c",
   "metadata": {},
   "outputs": [
    {
     "name": "stdin",
     "output_type": "stream",
     "text": [
      "Enter the number till which we need odd number:  10\n"
     ]
    },
    {
     "name": "stdout",
     "output_type": "stream",
     "text": [
      "1\n",
      "3\n",
      "5\n",
      "7\n",
      "9\n"
     ]
    }
   ],
   "source": [
    "number=int(input(\"Enter the number till which we need odd number: \"))\n",
    "i=1\n",
    "while i<=number:\n",
    "    if i%2!=0:\n",
    "        print(i)\n",
    "    i=i+1"
   ]
  },
  {
   "cell_type": "markdown",
   "id": "0dc4c196-7f7e-4d0b-bb72-ebc919b35229",
   "metadata": {},
   "source": [
    "##Q. Write a program which accept lower limit & upper limit, display all numbers between them."
   ]
  },
  {
   "cell_type": "code",
   "execution_count": 27,
   "id": "8ae41895-546e-44b7-90e4-363d315e362f",
   "metadata": {},
   "outputs": [
    {
     "name": "stdin",
     "output_type": "stream",
     "text": [
      "Enter the Lower limit of number:  5\n",
      "Enter the upper limit of number:  10\n"
     ]
    },
    {
     "name": "stdout",
     "output_type": "stream",
     "text": [
      "5\n",
      "6\n",
      "7\n",
      "8\n",
      "9\n",
      "10\n"
     ]
    }
   ],
   "source": [
    "lower_limit=int(input(\"Enter the Lower limit of number: \"))\n",
    "upper_limit=int(input(\"Enter the upper limit of number: \"))\n",
    "i=lower_limit\n",
    "while i<=upper_limit:\n",
    "    print(i)\n",
    "    i=i+1"
   ]
  },
  {
   "cell_type": "code",
   "execution_count": null,
   "id": "4d8e6c46-12ea-4aab-be6d-e3b57526f15a",
   "metadata": {},
   "outputs": [],
   "source": []
  }
 ],
 "metadata": {
  "kernelspec": {
   "display_name": "Python [conda env:anaconda distribution installer]",
   "language": "python",
   "name": "conda-env-anaconda_distribution_installer-py"
  },
  "language_info": {
   "codemirror_mode": {
    "name": "ipython",
    "version": 3
   },
   "file_extension": ".py",
   "mimetype": "text/x-python",
   "name": "python",
   "nbconvert_exporter": "python",
   "pygments_lexer": "ipython3",
   "version": "3.13.5"
  }
 },
 "nbformat": 4,
 "nbformat_minor": 5
}
