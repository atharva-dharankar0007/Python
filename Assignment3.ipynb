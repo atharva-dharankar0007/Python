{
 "cells": [
  {
   "cell_type": "markdown",
   "id": "7e8ef2f0-c23c-46cc-ac52-61a5374ef268",
   "metadata": {},
   "source": [
    "18 aug 2025 "
   ]
  },
  {
   "cell_type": "markdown",
   "id": "27cef20d-eb93-4ee4-bd6e-59851885ea80",
   "metadata": {},
   "source": [
    "\n",
    "Assignment3: Accept colour from user and check weather the given colour is Rainbow colour or not."
   ]
  },
  {
   "cell_type": "code",
   "execution_count": 42,
   "id": "39fc3ea9-a3b9-4aa4-8fa5-5fa9f7ea296b",
   "metadata": {},
   "outputs": [
    {
     "name": "stdin",
     "output_type": "stream",
     "text": [
      "Enter the Colour:  BLUE\n"
     ]
    },
    {
     "name": "stdout",
     "output_type": "stream",
     "text": [
      "The blue is rainbow colour\n"
     ]
    }
   ],
   "source": [
    "## Method1 using else if ladder\n",
    "colour=input(\"Enter the Colour: \")\n",
    "colour=colour.lower()\n",
    "\n",
    "if colour==\"violet\":\n",
    "    print(f\"The {colour} is rainbow colour\")\n",
    "\n",
    "elif colour==\"indigo\":\n",
    "    print(f\"The {colour} is rainbow colour\")\n",
    "\n",
    "elif colour==\"blue\":\n",
    "    print(f\"The {colour} is rainbow colour\")\n",
    "\n",
    "elif colour==\"green\":\n",
    "    print(f\"The {colour} is rainbow colour\")\n",
    "\n",
    "elif colour==\"yellow\":\n",
    "    print(f\"The {colour} is rainbow colour\")\n",
    "\n",
    "elif colour==\"orange\":\n",
    "    print(f\"The {colour} is rainbow colour\")\n",
    "\n",
    "elif colour==\"red\":\n",
    "    print(f\"The {colour} is rainbow colour\")\n",
    "\n",
    "else:\n",
    "    print(f\"The given {colour} is not Rainbow colour.\")"
   ]
  },
  {
   "cell_type": "code",
   "execution_count": 44,
   "id": "4856c5e7-412d-4e10-b94e-3d96c9235bd0",
   "metadata": {},
   "outputs": [
    {
     "name": "stdin",
     "output_type": "stream",
     "text": [
      "Enter the colour name:  BLACK\n"
     ]
    },
    {
     "name": "stdout",
     "output_type": "stream",
     "text": [
      "The given colour black is not Rainbow colour.\n"
     ]
    }
   ],
   "source": [
    "## Method2 using \"or\" \n",
    "colour=input(\"Enter the colour name: \")\n",
    "colour=colour.lower()\n",
    "\n",
    "if(colour==\"violet\"or colour==\"indigo\" or colour==\"blue\" or colour==\"green\" or colour==\"yellow\" or colour==\"orange\" or colour==\"red\"):\n",
    "    print(f\"The colour {colour} is Rainbow colour.\")\n",
    "\n",
    "else:\n",
    "    print(f\"The given colour {colour} is not Rainbow colour.\")"
   ]
  },
  {
   "cell_type": "code",
   "execution_count": 29,
   "id": "40b1ca75-05b6-4550-b9a0-e0a36335a82f",
   "metadata": {
    "scrolled": true
   },
   "outputs": [
    {
     "name": "stdin",
     "output_type": "stream",
     "text": [
      "Enter the colour name:  BLUE\n"
     ]
    },
    {
     "name": "stdout",
     "output_type": "stream",
     "text": [
      "The colour blue is Rainbow colour.\n"
     ]
    }
   ],
   "source": [
    "## Method3 using \"in\"\n",
    "colour=input(\"Enter the colour name: \")\n",
    "colour=colour.lower()\n",
    "\n",
    "\n",
    "if colour in [\"violet\",\"indigo\",\"blue\",\"green\",\"orange\",\"yellow\",\"red\"]:\n",
    "    print(f\"The colour {colour} is Rainbow colour.\")\n",
    "\n",
    "else:\n",
    "    print(f\"The given colour {colour} is not Rainbow colour.\")"
   ]
  },
  {
   "cell_type": "code",
   "execution_count": null,
   "id": "af150a44-ff89-4b96-8fc4-f5daa5f895c3",
   "metadata": {},
   "outputs": [],
   "source": []
  },
  {
   "cell_type": "code",
   "execution_count": null,
   "id": "e7d7e663-9374-4517-9d32-096f187f9dff",
   "metadata": {},
   "outputs": [],
   "source": []
  },
  {
   "cell_type": "code",
   "execution_count": null,
   "id": "38a90ab1-087e-4047-856d-c0914a4f7f07",
   "metadata": {},
   "outputs": [],
   "source": []
  },
  {
   "cell_type": "code",
   "execution_count": null,
   "id": "88588d54-d711-4089-bd99-022ac3c3a189",
   "metadata": {},
   "outputs": [],
   "source": []
  }
 ],
 "metadata": {
  "kernelspec": {
   "display_name": "Python [conda env:anaconda distribution installer]",
   "language": "python",
   "name": "conda-env-anaconda_distribution_installer-py"
  },
  "language_info": {
   "codemirror_mode": {
    "name": "ipython",
    "version": 3
   },
   "file_extension": ".py",
   "mimetype": "text/x-python",
   "name": "python",
   "nbconvert_exporter": "python",
   "pygments_lexer": "ipython3",
   "version": "3.13.5"
  }
 },
 "nbformat": 4,
 "nbformat_minor": 5
}
