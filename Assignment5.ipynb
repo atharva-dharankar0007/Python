{
 "cells": [
  {
   "cell_type": "markdown",
   "id": "974d987f-b395-428a-9f0b-b47f3145a1f8",
   "metadata": {},
   "source": [
    "Q1.Accept Lower limit & Upper limit and print sum of all numbers in between them."
   ]
  },
  {
   "cell_type": "code",
   "execution_count": 18,
   "id": "de4c7274-ed81-438e-a099-3aef5bc92a4b",
   "metadata": {},
   "outputs": [
    {
     "name": "stdin",
     "output_type": "stream",
     "text": [
      "Enter the Lower limit of number:  5\n",
      "Enter the upper limit of number:  10\n"
     ]
    },
    {
     "name": "stdout",
     "output_type": "stream",
     "text": [
      "Addition is : 45\n"
     ]
    }
   ],
   "source": [
    "lower_limit=int(input(\"Enter the Lower limit of number: \"))\n",
    "upper_limit=int(input(\"Enter the upper limit of number: \"))\n",
    "total=0\n",
    "\n",
    "for i in range(lower_limit,upper_limit+1):\n",
    "    total=total+i\n",
    "    \n",
    "print(f\"Addition is : {total}\")"
   ]
  },
  {
   "cell_type": "markdown",
   "id": "293e801f-57ef-45a6-952e-340afdee6754",
   "metadata": {},
   "source": [
    "Q2. Accept Lower limit & Upper limit and print odd and Even numbers from in between them."
   ]
  },
  {
   "cell_type": "code",
   "execution_count": 28,
   "id": "3c9e964a-e17f-45a9-b4db-18ed0daf2b1c",
   "metadata": {},
   "outputs": [
    {
     "name": "stdin",
     "output_type": "stream",
     "text": [
      "Enter the Lower limit of number:  5\n",
      "Enter the upper limit of number:  10\n"
     ]
    },
    {
     "name": "stdout",
     "output_type": "stream",
     "text": [
      " 5 is odd number\n",
      " 6 is even number\n",
      " 7 is odd number\n",
      " 8 is even number\n",
      " 9 is odd number\n",
      " 10 is even number\n"
     ]
    }
   ],
   "source": [
    "lower_limit=int(input(\"Enter the Lower limit of number: \"))\n",
    "upper_limit=int(input(\"Enter the upper limit of number: \"))\n",
    "\n",
    "\n",
    "for i in range(lower_limit,upper_limit+1):\n",
    "    if i%2==0:\n",
    "       print(f\" {i} is even number\")\n",
    "    else:\n",
    "        print(f\" {i} is odd number\")"
   ]
  },
  {
   "cell_type": "code",
   "execution_count": null,
   "id": "bb0e4cb5-fab1-4108-a6a2-ba373e692aa9",
   "metadata": {},
   "outputs": [],
   "source": []
  }
 ],
 "metadata": {
  "kernelspec": {
   "display_name": "Python [conda env:anaconda distribution installer]",
   "language": "python",
   "name": "conda-env-anaconda_distribution_installer-py"
  },
  "language_info": {
   "codemirror_mode": {
    "name": "ipython",
    "version": 3
   },
   "file_extension": ".py",
   "mimetype": "text/x-python",
   "name": "python",
   "nbconvert_exporter": "python",
   "pygments_lexer": "ipython3",
   "version": "3.13.5"
  }
 },
 "nbformat": 4,
 "nbformat_minor": 5
}
