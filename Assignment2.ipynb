{
 "cells": [
  {
   "cell_type": "markdown",
   "id": "f18af0d9-478d-474a-b873-0b442064775c",
   "metadata": {},
   "source": [
    "Assignment2.1:Check weather given number is Natural or not"
   ]
  },
  {
   "cell_type": "code",
   "execution_count": 14,
   "id": "af7623a2-1f0e-4007-91c4-f46f63b185ba",
   "metadata": {},
   "outputs": [
    {
     "name": "stdin",
     "output_type": "stream",
     "text": [
      "Enter the number:  -2\n"
     ]
    },
    {
     "name": "stdout",
     "output_type": "stream",
     "text": [
      "The given number -2.0 is not Natural number.\n"
     ]
    }
   ],
   "source": [
    "number=float(input(\"Enter the number: \"))\n",
    "if number>0:\n",
    "    print(f\"The given number {number} is Natural number.\")\n",
    "\n",
    "else:\n",
    "    print(f\"The given number {number} is not Natural number.\")"
   ]
  },
  {
   "cell_type": "markdown",
   "id": "81a95de2-16f3-4e4c-82b8-e5e64aceb149",
   "metadata": {},
   "source": [
    "Assignment2.1:Accept two numbers and find maximum from it"
   ]
  },
  {
   "cell_type": "code",
   "execution_count": 18,
   "id": "62a7d474-ded1-421e-a88e-bbff97ee00e0",
   "metadata": {},
   "outputs": [
    {
     "name": "stdin",
     "output_type": "stream",
     "text": [
      "Enter the first number:  2\n",
      "Enter the second number:  3\n"
     ]
    },
    {
     "name": "stdout",
     "output_type": "stream",
     "text": [
      "Number 3.0 is greater than 2.0\n"
     ]
    }
   ],
   "source": [
    "first_number=float(input(\"Enter the first number: \"))\n",
    "second_number=float(input(\"Enter the second number: \"))\n",
    "\n",
    "if first_number>second_number:\n",
    "    print(f\"Number {first_number} is greater than {second_number}\")\n",
    "\n",
    "elif first_number==second_number:\n",
    "    print(f\" Both Number {first_number} and {second_number} are equal\")\n",
    "\n",
    "else:\n",
    "    print(f\"Number {second_number} is greater than {first_number}\")\n",
    "\n",
    "\n"
   ]
  },
  {
   "cell_type": "code",
   "execution_count": null,
   "id": "ea597945-f0a5-4e58-a8f0-f14c4321444d",
   "metadata": {},
   "outputs": [],
   "source": []
  }
 ],
 "metadata": {
  "kernelspec": {
   "display_name": "Python [conda env:anaconda distribution installer]",
   "language": "python",
   "name": "conda-env-anaconda_distribution_installer-py"
  },
  "language_info": {
   "codemirror_mode": {
    "name": "ipython",
    "version": 3
   },
   "file_extension": ".py",
   "mimetype": "text/x-python",
   "name": "python",
   "nbconvert_exporter": "python",
   "pygments_lexer": "ipython3",
   "version": "3.13.5"
  }
 },
 "nbformat": 4,
 "nbformat_minor": 5
}
